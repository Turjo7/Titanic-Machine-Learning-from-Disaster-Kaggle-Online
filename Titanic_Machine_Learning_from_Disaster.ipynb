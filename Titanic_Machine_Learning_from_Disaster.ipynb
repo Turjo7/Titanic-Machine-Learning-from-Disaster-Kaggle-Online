{
  "nbformat": 4,
  "nbformat_minor": 0,
  "metadata": {
    "colab": {
      "name": "Titanic: Machine Learning from Disaster.ipynb",
      "provenance": [],
      "collapsed_sections": []
    },
    "kernelspec": {
      "name": "python3",
      "display_name": "Python 3"
    }
  },
  "cells": [
    {
      "cell_type": "code",
      "metadata": {
        "id": "wHNbsEoSFYUh",
        "colab_type": "code",
        "colab": {}
      },
      "source": [
        "import pandas as pd\n",
        "from sklearn.ensemble import RandomForestClassifier\n",
        "from sklearn.tree import DecisionTreeRegressor\n",
        "from sklearn.model_selection import train_test_split\n",
        "from sklearn.metrics import mean_absolute_error"
      ],
      "execution_count": 0,
      "outputs": []
    },
    {
      "cell_type": "code",
      "metadata": {
        "id": "LqTRfvDiFbxa",
        "colab_type": "code",
        "colab": {}
      },
      "source": [
        "# load data\n",
        "train_data = pd.read_csv(\"data/train.csv\")\n",
        "test_data = pd.read_csv(\"data/test.csv\")"
      ],
      "execution_count": 0,
      "outputs": []
    },
    {
      "cell_type": "code",
      "metadata": {
        "id": "4Cjg5kKxFeqC",
        "colab_type": "code",
        "colab": {}
      },
      "source": [
        "# feature selection\n",
        "features = [\"Pclass\", \"Sex\", \"SibSp\", \"Parch\"]"
      ],
      "execution_count": 0,
      "outputs": []
    },
    {
      "cell_type": "code",
      "metadata": {
        "id": "rb2kHyOZFhEs",
        "colab_type": "code",
        "colab": {}
      },
      "source": [
        "X = pd.get_dummies(train_data[features])\n",
        "y = train_data['Survived']"
      ],
      "execution_count": 0,
      "outputs": []
    },
    {
      "cell_type": "code",
      "metadata": {
        "id": "K48d7JSoFj29",
        "colab_type": "code",
        "colab": {}
      },
      "source": [
        "# split data to train set and validation set\n",
        "train_X, val_X, train_y, val_y = train_test_split(X, y, random_state = 0)"
      ],
      "execution_count": 0,
      "outputs": []
    },
    {
      "cell_type": "code",
      "metadata": {
        "id": "hBNn4W_0FnOH",
        "colab_type": "code",
        "colab": {
          "base_uri": "https://localhost:8080/",
          "height": 34
        },
        "outputId": "a783f4f2-d481-4284-ad4c-46ee202612f4"
      },
      "source": [
        "# Random forest prediction\n",
        "forest_model = RandomForestClassifier(n_estimators=100)\n",
        "forest_model.fit(train_X, train_y)\n",
        "forest_val_predictions = forest_model.predict(val_X)\n",
        "print('MAE of Random Forests: %f' % (mean_absolute_error(val_y, forest_val_predictions)))"
      ],
      "execution_count": 33,
      "outputs": [
        {
          "output_type": "stream",
          "text": [
            "MAE of Random Forests: 0.210762\n"
          ],
          "name": "stdout"
        }
      ]
    },
    {
      "cell_type": "code",
      "metadata": {
        "id": "9uRQwiFxFrg7",
        "colab_type": "code",
        "colab": {
          "base_uri": "https://localhost:8080/",
          "height": 34
        },
        "outputId": "c9477878-b2ee-4505-abd9-898722c08b4b"
      },
      "source": [
        "# Decision Tree prediction\n",
        "tree_model = DecisionTreeRegressor(random_state=1)\n",
        "tree_model.fit(train_X, train_y)\n",
        "tree_val_predictions = tree_model.predict(val_X)\n",
        "print('MAE of Decision Tree: %f' % (mean_absolute_error(val_y, tree_val_predictions)))"
      ],
      "execution_count": 34,
      "outputs": [
        {
          "output_type": "stream",
          "text": [
            "MAE of Decision Tree: 0.275228\n"
          ],
          "name": "stdout"
        }
      ]
    },
    {
      "cell_type": "code",
      "metadata": {
        "id": "bVVyPPwuFwvr",
        "colab_type": "code",
        "colab": {
          "base_uri": "https://localhost:8080/",
          "height": 255
        },
        "outputId": "a670b384-4ae7-43d2-c5fe-c40726ec1feb"
      },
      "source": [
        "# generate CSV\n",
        "output_1 = pd.DataFrame({'PassengerId': test_data.PassengerId})\n",
        "print(output_1)\n",
        "output_1.to_csv('my_submission_1.csv', index=False)"
      ],
      "execution_count": 59,
      "outputs": [
        {
          "output_type": "stream",
          "text": [
            "     PassengerId\n",
            "0            892\n",
            "1            893\n",
            "2            894\n",
            "3            895\n",
            "4            896\n",
            "..           ...\n",
            "413         1305\n",
            "414         1306\n",
            "415         1307\n",
            "416         1308\n",
            "417         1309\n",
            "\n",
            "[418 rows x 1 columns]\n"
          ],
          "name": "stdout"
        }
      ]
    },
    {
      "cell_type": "code",
      "metadata": {
        "id": "ApWtUoV5KrWP",
        "colab_type": "code",
        "colab": {
          "base_uri": "https://localhost:8080/",
          "height": 255
        },
        "outputId": "61631d45-ac23-4f9f-cf3a-64346b0265cb"
      },
      "source": [
        "# generate CSV\n",
        "output_2 = pd.DataFrame({'Survived': forest_val_predictions})\n",
        "print(output_2)\n",
        "output_2.to_csv('my_submission_2.csv', index=False)\n"
      ],
      "execution_count": 60,
      "outputs": [
        {
          "output_type": "stream",
          "text": [
            "     Survived\n",
            "0           0\n",
            "1           0\n",
            "2           0\n",
            "3           1\n",
            "4           1\n",
            "..        ...\n",
            "218         0\n",
            "219         1\n",
            "220         0\n",
            "221         1\n",
            "222         0\n",
            "\n",
            "[223 rows x 1 columns]\n"
          ],
          "name": "stdout"
        }
      ]
    },
    {
      "cell_type": "markdown",
      "metadata": {
        "id": "NKBIhc32NMGZ",
        "colab_type": "text"
      },
      "source": [
        "**Code After Solving array length 223 does not match index length 418!!!!!!!!!!!!**"
      ]
    },
    {
      "cell_type": "code",
      "metadata": {
        "id": "ThiV1TzjMrlR",
        "colab_type": "code",
        "colab": {}
      },
      "source": [
        "import pandas as pd\n",
        "from sklearn.ensemble import RandomForestClassifier\n",
        "from sklearn.tree import DecisionTreeRegressor\n",
        "from sklearn.model_selection import train_test_split\n",
        "from sklearn.metrics import mean_absolute_error"
      ],
      "execution_count": 0,
      "outputs": []
    },
    {
      "cell_type": "code",
      "metadata": {
        "id": "bC2S8CvWMvLu",
        "colab_type": "code",
        "colab": {
          "base_uri": "https://localhost:8080/",
          "height": 221
        },
        "outputId": "c6c3888b-3262-4b15-9488-f4672cfb228c"
      },
      "source": [
        "test_data = pd.read_csv(\"data/test.csv\")\n",
        "test_data.head()"
      ],
      "execution_count": 65,
      "outputs": [
        {
          "output_type": "execute_result",
          "data": {
            "text/html": [
              "<div>\n",
              "<style scoped>\n",
              "    .dataframe tbody tr th:only-of-type {\n",
              "        vertical-align: middle;\n",
              "    }\n",
              "\n",
              "    .dataframe tbody tr th {\n",
              "        vertical-align: top;\n",
              "    }\n",
              "\n",
              "    .dataframe thead th {\n",
              "        text-align: right;\n",
              "    }\n",
              "</style>\n",
              "<table border=\"1\" class=\"dataframe\">\n",
              "  <thead>\n",
              "    <tr style=\"text-align: right;\">\n",
              "      <th></th>\n",
              "      <th>PassengerId</th>\n",
              "      <th>Pclass</th>\n",
              "      <th>Name</th>\n",
              "      <th>Sex</th>\n",
              "      <th>Age</th>\n",
              "      <th>SibSp</th>\n",
              "      <th>Parch</th>\n",
              "      <th>Ticket</th>\n",
              "      <th>Fare</th>\n",
              "      <th>Cabin</th>\n",
              "      <th>Embarked</th>\n",
              "    </tr>\n",
              "  </thead>\n",
              "  <tbody>\n",
              "    <tr>\n",
              "      <th>0</th>\n",
              "      <td>892</td>\n",
              "      <td>3</td>\n",
              "      <td>Kelly, Mr. James</td>\n",
              "      <td>male</td>\n",
              "      <td>34.5</td>\n",
              "      <td>0</td>\n",
              "      <td>0</td>\n",
              "      <td>330911</td>\n",
              "      <td>7.8292</td>\n",
              "      <td>NaN</td>\n",
              "      <td>Q</td>\n",
              "    </tr>\n",
              "    <tr>\n",
              "      <th>1</th>\n",
              "      <td>893</td>\n",
              "      <td>3</td>\n",
              "      <td>Wilkes, Mrs. James (Ellen Needs)</td>\n",
              "      <td>female</td>\n",
              "      <td>47.0</td>\n",
              "      <td>1</td>\n",
              "      <td>0</td>\n",
              "      <td>363272</td>\n",
              "      <td>7.0000</td>\n",
              "      <td>NaN</td>\n",
              "      <td>S</td>\n",
              "    </tr>\n",
              "    <tr>\n",
              "      <th>2</th>\n",
              "      <td>894</td>\n",
              "      <td>2</td>\n",
              "      <td>Myles, Mr. Thomas Francis</td>\n",
              "      <td>male</td>\n",
              "      <td>62.0</td>\n",
              "      <td>0</td>\n",
              "      <td>0</td>\n",
              "      <td>240276</td>\n",
              "      <td>9.6875</td>\n",
              "      <td>NaN</td>\n",
              "      <td>Q</td>\n",
              "    </tr>\n",
              "    <tr>\n",
              "      <th>3</th>\n",
              "      <td>895</td>\n",
              "      <td>3</td>\n",
              "      <td>Wirz, Mr. Albert</td>\n",
              "      <td>male</td>\n",
              "      <td>27.0</td>\n",
              "      <td>0</td>\n",
              "      <td>0</td>\n",
              "      <td>315154</td>\n",
              "      <td>8.6625</td>\n",
              "      <td>NaN</td>\n",
              "      <td>S</td>\n",
              "    </tr>\n",
              "    <tr>\n",
              "      <th>4</th>\n",
              "      <td>896</td>\n",
              "      <td>3</td>\n",
              "      <td>Hirvonen, Mrs. Alexander (Helga E Lindqvist)</td>\n",
              "      <td>female</td>\n",
              "      <td>22.0</td>\n",
              "      <td>1</td>\n",
              "      <td>1</td>\n",
              "      <td>3101298</td>\n",
              "      <td>12.2875</td>\n",
              "      <td>NaN</td>\n",
              "      <td>S</td>\n",
              "    </tr>\n",
              "  </tbody>\n",
              "</table>\n",
              "</div>"
            ],
            "text/plain": [
              "   PassengerId  Pclass  ... Cabin Embarked\n",
              "0          892       3  ...   NaN        Q\n",
              "1          893       3  ...   NaN        S\n",
              "2          894       2  ...   NaN        Q\n",
              "3          895       3  ...   NaN        S\n",
              "4          896       3  ...   NaN        S\n",
              "\n",
              "[5 rows x 11 columns]"
            ]
          },
          "metadata": {
            "tags": []
          },
          "execution_count": 65
        }
      ]
    },
    {
      "cell_type": "code",
      "metadata": {
        "id": "sUUCSBl7M2-K",
        "colab_type": "code",
        "colab": {
          "base_uri": "https://localhost:8080/",
          "height": 34
        },
        "outputId": "fde3293b-a415-4823-e33c-a8a9aaced59b"
      },
      "source": [
        "women = train_data.loc[train_data.Sex == 'female'][\"Survived\"]\n",
        "rate_women = sum(women)/len(women)\n",
        "\n",
        "print(\"% of women who survived\", rate_women)"
      ],
      "execution_count": 66,
      "outputs": [
        {
          "output_type": "stream",
          "text": [
            "% of women who survived 0.7420382165605095\n"
          ],
          "name": "stdout"
        }
      ]
    },
    {
      "cell_type": "code",
      "metadata": {
        "id": "OzwQiKv9M60Z",
        "colab_type": "code",
        "colab": {
          "base_uri": "https://localhost:8080/",
          "height": 34
        },
        "outputId": "8be4da05-8f33-4dd8-922c-f4275fbe9855"
      },
      "source": [
        "men = train_data.loc[train_data.Sex == 'male'][\"Survived\"]\n",
        "rate_men = sum(men)/len(men)\n",
        "\n",
        "print(\"% of men who survived:\", rate_men)"
      ],
      "execution_count": 67,
      "outputs": [
        {
          "output_type": "stream",
          "text": [
            "% of men who survived: 0.18890814558058924\n"
          ],
          "name": "stdout"
        }
      ]
    },
    {
      "cell_type": "code",
      "metadata": {
        "id": "EsLf7gb0M9yL",
        "colab_type": "code",
        "colab": {
          "base_uri": "https://localhost:8080/",
          "height": 272
        },
        "outputId": "71fdb582-fbc1-43f7-91b8-27c841cc8e19"
      },
      "source": [
        "from sklearn.ensemble import RandomForestClassifier\n",
        "\n",
        "y = train_data[\"Survived\"]\n",
        "\n",
        "features = [\"Pclass\", \"Sex\", \"SibSp\", \"Parch\"]\n",
        "X = pd.get_dummies(train_data[features])\n",
        "X_test = pd.get_dummies(test_data[features])\n",
        "\n",
        "model = RandomForestClassifier(n_estimators=100, max_depth=5, random_state=1)\n",
        "model.fit(X, y)\n",
        "predictions = model.predict(X_test)\n",
        "\n",
        "output = pd.DataFrame({'PassengerId': test_data.PassengerId, 'Survived': predictions})\n",
        "print(output)\n",
        "output.to_csv('my_submission.csv', index=False)\n",
        "print(\"Your submission was successfully saved!\")"
      ],
      "execution_count": 69,
      "outputs": [
        {
          "output_type": "stream",
          "text": [
            "     PassengerId  Survived\n",
            "0            892         0\n",
            "1            893         1\n",
            "2            894         0\n",
            "3            895         0\n",
            "4            896         1\n",
            "..           ...       ...\n",
            "413         1305         0\n",
            "414         1306         1\n",
            "415         1307         0\n",
            "416         1308         0\n",
            "417         1309         0\n",
            "\n",
            "[418 rows x 2 columns]\n",
            "Your submission was successfully saved!\n"
          ],
          "name": "stdout"
        }
      ]
    }
  ]
}